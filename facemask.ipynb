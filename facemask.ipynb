{
 "cells": [
  {
   "cell_type": "code",
   "execution_count": 1,
   "metadata": {},
   "outputs": [
    {
     "name": "stdout",
     "output_type": "stream",
     "text": [
      "{'without_mask': 0, 'with_mask': 1}\n",
      "['without_mask', 'with_mask']\n",
      "[0, 1]\n"
     ]
    }
   ],
   "source": [
    "import cv2,os\n",
    "\n",
    "dpath='dataset'\n",
    "categories=os.listdir(dpath)\n",
    "labels=[i for i in range(len(categories))]\n",
    "label_dict=dict(zip(categories,labels)) \n",
    "print(label_dict)\n",
    "print(categories)\n",
    "print(labels)"
   ]
  },
  {
   "cell_type": "code",
   "execution_count": 2,
   "metadata": {},
   "outputs": [],
   "source": [
    "img_size=100\n",
    "data=[]\n",
    "tar=[]\n",
    "\n",
    "\n",
    "for category in categories:\n",
    "    folder_path=os.path.join(dpath,category)\n",
    "    img_names=os.listdir(folder_path)\n",
    "        \n",
    "    for img_name in img_names:\n",
    "        img_path=os.path.join(folder_path,img_name)\n",
    "        img=cv2.imread(img_path)\n",
    "\n",
    "        try:\n",
    "            gray=cv2.cvtColor(img,cv2.COLOR_BGR2GRAY)           \n",
    "            resized=cv2.resize(gray,(img_size,img_size))\n",
    "            data.append(resized)\n",
    "            tar.append(label_dict[category])\n",
    "            \n",
    "\n",
    "        except Exception as e:\n",
    "            print('Exception:',e)"
   ]
  },
  {
   "cell_type": "code",
   "execution_count": 3,
   "metadata": {},
   "outputs": [
    {
     "name": "stderr",
     "output_type": "stream",
     "text": [
      "Using TensorFlow backend.\n"
     ]
    }
   ],
   "source": [
    "import numpy as np\n",
    "\n",
    "data=np.array(data)/255.0\n",
    "data=np.reshape(data,(data.shape[0],img_size,img_size,1))\n",
    "tar=np.array(tar)\n",
    "\n",
    "from keras.utils import np_utils\n",
    "\n",
    "new_target=np_utils.to_categorical(tar)\n",
    "np.save('data',data)\n",
    "np.save('tar',new_target)"
   ]
  },
  {
   "cell_type": "code",
   "execution_count": 4,
   "metadata": {},
   "outputs": [],
   "source": [
    "data=np.load('data.npy')\n",
    "tar=np.load('tar.npy')"
   ]
  },
  {
   "cell_type": "code",
   "execution_count": 5,
   "metadata": {},
   "outputs": [],
   "source": [
    "from keras.models import Sequential\n",
    "from keras.layers import Dense,Activation,Flatten,Dropout\n",
    "from keras.layers import Conv2D,MaxPooling2D\n",
    "from keras.callbacks import ModelCheckpoint\n",
    "\n",
    "model=Sequential()\n",
    "\n",
    "model.add(Conv2D(200,(3,3),input_shape=data.shape[1:]))\n",
    "model.add(Activation('relu'))\n",
    "model.add(MaxPooling2D(pool_size=(2,2)))\n",
    "\n",
    "model.add(Conv2D(100,(3,3)))\n",
    "model.add(Activation('relu'))\n",
    "model.add(MaxPooling2D(pool_size=(2,2)))\n",
    "\n",
    "\n",
    "model.add(Flatten())\n",
    "model.add(Dropout(0.5))\n",
    "\n",
    "model.add(Dense(50,activation='relu'))\n",
    "\n",
    "model.add(Dense(2,activation='softmax'))\n",
    "\n",
    "model.compile(loss='categorical_crossentropy',optimizer='adam',metrics=['accuracy'])"
   ]
  },
  {
   "cell_type": "code",
   "execution_count": 6,
   "metadata": {},
   "outputs": [],
   "source": [
    "from sklearn.model_selection import train_test_split\n",
    "\n",
    "X_train, X_test, y_train, y_test=train_test_split(data,tar,test_size=0.1)"
   ]
  },
  {
   "cell_type": "code",
   "execution_count": 7,
   "metadata": {},
   "outputs": [
    {
     "name": "stdout",
     "output_type": "stream",
     "text": [
      "Train on 990 samples, validate on 248 samples\n",
      "Epoch 1/20\n",
      "990/990 [==============================] - 68s 69ms/step - loss: 0.6817 - accuracy: 0.5677 - val_loss: 0.6682 - val_accuracy: 0.5605\n",
      "Epoch 2/20\n",
      "990/990 [==============================] - 84s 85ms/step - loss: 0.4725 - accuracy: 0.7828 - val_loss: 0.4404 - val_accuracy: 0.8024\n",
      "Epoch 3/20\n",
      "990/990 [==============================] - 85s 86ms/step - loss: 0.2894 - accuracy: 0.8899 - val_loss: 0.2881 - val_accuracy: 0.8911\n",
      "Epoch 4/20\n",
      "990/990 [==============================] - 85s 86ms/step - loss: 0.2017 - accuracy: 0.9182 - val_loss: 0.2478 - val_accuracy: 0.8992\n",
      "Epoch 5/20\n",
      "990/990 [==============================] - 89s 90ms/step - loss: 0.1566 - accuracy: 0.9333 - val_loss: 0.2088 - val_accuracy: 0.9476\n",
      "Epoch 6/20\n",
      "990/990 [==============================] - 87s 88ms/step - loss: 0.1088 - accuracy: 0.9636 - val_loss: 0.1647 - val_accuracy: 0.9637\n",
      "Epoch 7/20\n",
      "990/990 [==============================] - 85s 85ms/step - loss: 0.0882 - accuracy: 0.9687 - val_loss: 0.6059 - val_accuracy: 0.7581\n",
      "Epoch 8/20\n",
      "990/990 [==============================] - 85s 86ms/step - loss: 0.1457 - accuracy: 0.9455 - val_loss: 0.1908 - val_accuracy: 0.9435\n",
      "Epoch 9/20\n",
      "990/990 [==============================] - 80s 81ms/step - loss: 0.0599 - accuracy: 0.9798 - val_loss: 0.1908 - val_accuracy: 0.9597\n",
      "Epoch 10/20\n",
      "990/990 [==============================] - 83s 84ms/step - loss: 0.0392 - accuracy: 0.9879 - val_loss: 0.2304 - val_accuracy: 0.9516\n",
      "Epoch 11/20\n",
      "990/990 [==============================] - 85s 86ms/step - loss: 0.0335 - accuracy: 0.9899 - val_loss: 0.2132 - val_accuracy: 0.9516\n",
      "Epoch 12/20\n",
      "990/990 [==============================] - 86s 87ms/step - loss: 0.0280 - accuracy: 0.9929 - val_loss: 0.2999 - val_accuracy: 0.9355\n",
      "Epoch 13/20\n",
      "990/990 [==============================] - 89s 90ms/step - loss: 0.0262 - accuracy: 0.9889 - val_loss: 0.2316 - val_accuracy: 0.9516\n",
      "Epoch 14/20\n",
      "990/990 [==============================] - 85s 86ms/step - loss: 0.0450 - accuracy: 0.9818 - val_loss: 0.2502 - val_accuracy: 0.9355\n",
      "Epoch 15/20\n",
      "990/990 [==============================] - 87s 88ms/step - loss: 0.0156 - accuracy: 0.9949 - val_loss: 0.2346 - val_accuracy: 0.9516\n",
      "Epoch 16/20\n",
      "990/990 [==============================] - 86s 87ms/step - loss: 0.0132 - accuracy: 0.9960 - val_loss: 0.2427 - val_accuracy: 0.9516\n",
      "Epoch 17/20\n",
      "990/990 [==============================] - 86s 87ms/step - loss: 0.0172 - accuracy: 0.9929 - val_loss: 0.3576 - val_accuracy: 0.9194\n",
      "Epoch 18/20\n",
      "990/990 [==============================] - 83s 84ms/step - loss: 0.0223 - accuracy: 0.9929 - val_loss: 0.2192 - val_accuracy: 0.9597\n",
      "Epoch 19/20\n",
      "990/990 [==============================] - 88s 89ms/step - loss: 0.0112 - accuracy: 0.9970 - val_loss: 0.2546 - val_accuracy: 0.9637\n",
      "Epoch 20/20\n",
      "990/990 [==============================] - 85s 86ms/step - loss: 0.0152 - accuracy: 0.9949 - val_loss: 0.2987 - val_accuracy: 0.9556\n"
     ]
    }
   ],
   "source": [
    "checkpoint = ModelCheckpoint('model-{epoch:03d}.model',monitor='val_loss',verbose=0,save_best_only=True,mode='auto')\n",
    "history=model.fit(X_train,y_train,epochs=20,callbacks=[checkpoint],validation_split=0.2)"
   ]
  },
  {
   "cell_type": "code",
   "execution_count": 8,
   "metadata": {},
   "outputs": [
    {
     "name": "stdout",
     "output_type": "stream",
     "text": [
      "138/138 [==============================] - 2s 16ms/step\n",
      "[0.25565232902063406, 0.9637681245803833]\n"
     ]
    }
   ],
   "source": [
    "print(model.evaluate(X_test,y_test))"
   ]
  },
  {
   "cell_type": "code",
   "execution_count": 12,
   "metadata": {},
   "outputs": [],
   "source": [
    "from keras.models import load_model"
   ]
  },
  {
   "cell_type": "code",
   "execution_count": 13,
   "metadata": {},
   "outputs": [],
   "source": [
    "newmodel = load_model('model-006.model')"
   ]
  },
  {
   "cell_type": "code",
   "execution_count": 18,
   "metadata": {},
   "outputs": [],
   "source": [
    "\n",
    "\n",
    "facesclassi=cv2.CascadeClassifier('haarcascade_frontalface_default.xml')\n",
    "\n",
    "video=cv2.VideoCapture(0)\n",
    "\n",
    "labels_dict={0:'...NO MASK...',1:'  ...MASK...   '}\n",
    "color_dict={0:(0,0,255),1:(0,255,0)}\n",
    "while(True):\n",
    "\n",
    "    ret,img=video.read()\n",
    "    img = cv2.flip(img,1,1)\n",
    "    gray=cv2.cvtColor(img,cv2.COLOR_BGR2GRAY)\n",
    "    faces=facesclassi.detectMultiScale(gray,1.3,5) \n",
    "\n",
    "    for (x,y,w,h) in faces:\n",
    "    \n",
    "        face_img=gray[y:y+w,x:x+w]\n",
    "        resized=cv2.resize(face_img,(100,100))\n",
    "        normalized=resized/255.0\n",
    "        reshaped=np.reshape(normalized,(1,100,100,1))\n",
    "        result=newmodel.predict(reshaped)\n",
    "\n",
    "        label=np.argmax(result,axis=1)[0]\n",
    "      \n",
    "        cv2.rectangle(img,(x,y),(x+w,y+h),color_dict[label],2)\n",
    "        cv2.rectangle(img,(x,y-40),(x+w,y),color_dict[label],-1)\n",
    "        cv2.putText(img, labels_dict[label], (x, y-10),cv2.FONT_HERSHEY_SIMPLEX,0.8,(255,255,255),2)\n",
    "        \n",
    "        \n",
    "    cv2.imshow('webcam',img)\n",
    "    if cv2.waitKey(1) & 0xff == ord('q'):\n",
    "        break\n",
    "        \n",
    "cv2.destroyAllWindows()\n",
    "video.release()"
   ]
  },
  {
   "cell_type": "code",
   "execution_count": 12,
   "metadata": {},
   "outputs": [],
   "source": []
  },
  {
   "cell_type": "code",
   "execution_count": null,
   "metadata": {},
   "outputs": [],
   "source": []
  }
 ],
 "metadata": {
  "kernelspec": {
   "display_name": "Python 3",
   "language": "python",
   "name": "python3"
  },
  "language_info": {
   "codemirror_mode": {
    "name": "ipython",
    "version": 3
   },
   "file_extension": ".py",
   "mimetype": "text/x-python",
   "name": "python",
   "nbconvert_exporter": "python",
   "pygments_lexer": "ipython3",
   "version": "3.7.6"
  }
 },
 "nbformat": 4,
 "nbformat_minor": 4
}
